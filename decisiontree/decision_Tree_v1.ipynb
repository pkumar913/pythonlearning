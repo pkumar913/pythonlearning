{
 "cells": [
  {
   "cell_type": "code",
   "execution_count": null,
   "id": "554112c9",
   "metadata": {},
   "outputs": [],
   "source": [
    "#Import Data\n",
    "import pandas as pd\n"
   ]
  },
  {
   "cell_type": "code",
   "execution_count": 15,
   "id": "341ef8e7",
   "metadata": {},
   "outputs": [
    {
     "name": "stdout",
     "output_type": "stream",
     "text": [
      "<class 'pandas.core.frame.DataFrame'>\n",
      "Index: 11805 entries, 0 to 11804\n",
      "Data columns (total 7 columns):\n",
      " #   Column                Non-Null Count  Dtype  \n",
      "---  ------                --------------  -----  \n",
      " 0   Cust_num              11805 non-null  float64\n",
      " 1   Region                11805 non-null  object \n",
      " 2   Age                   11805 non-null  float64\n",
      " 3   Order Quantity        11805 non-null  float64\n",
      " 4   Customer_Type         11805 non-null  object \n",
      " 5   Improvement Area      11805 non-null  object \n",
      " 6   Overall_Satisfaction  11805 non-null  object \n",
      "dtypes: float64(3), object(4)\n",
      "memory usage: 737.8+ KB\n"
     ]
    }
   ],
   "source": [
    "##Ecom_Cust_Survey = pd.read_csv('...',header = 0)\n",
    "df = pd.read_csv('Ecom_Cust_Survey.csv',header = 0)\n",
    "\n",
    "df.dropna(inplace=True) # to remove all the missing values rows..\n",
    "#Q 1. How many customers have participated in the survey?\n",
    "df.info()\n",
    "#ANS: 11805\n"
   ]
  },
  {
   "cell_type": "code",
   "execution_count": 16,
   "id": "77eddda6",
   "metadata": {},
   "outputs": [
    {
     "data": {
      "text/plain": [
       "(11805, 7)"
      ]
     },
     "execution_count": 16,
     "metadata": {},
     "output_type": "execute_result"
    }
   ],
   "source": [
    "#Q.2 Overall most of the customers are satisfied or dis-satisfied?\n",
    "#total number of customers\n",
    "df.shape"
   ]
  },
  {
   "cell_type": "code",
   "execution_count": 17,
   "id": "25ca8527",
   "metadata": {},
   "outputs": [
    {
     "name": "stdout",
     "output_type": "stream",
     "text": [
      "Overall_Satisfaction\n",
      "Dis Satisfied    6408\n",
      "Satisfied        5397\n",
      "Name: count, dtype: int64\n"
     ]
    }
   ],
   "source": [
    "#number of satisfied customers\n",
    "freq=df['Overall_Satisfaction'].value_counts(sort=False)\n",
    "print(freq)\n"
   ]
  },
  {
   "cell_type": "code",
   "execution_count": null,
   "id": "5a92d874",
   "metadata": {},
   "outputs": [],
   "source": [
    "#Q 3. Can you segment the data and find the concentrated satisfied and dis-satisfied customer segments ?\n",
    "#solution:\n",
    "# We will create a tree model in python using the sci-kit module\n",
    "# before that we will need to convert most of the feature data into numerical or hash values as scikit only works with numerical data\n",
    "\n",
    "\n",
    "df['Region'] = df['Region'].map( {'EAST': 1, 'WEST': 2, 'NORTH': 3, 'SOUTH':4} ).astype(int)\n",
    "df['Customer_Type'] = df['Customer_Type'].map({'Prime': 1, 'Non_Prime': 0}).astype(int)\n"
   ]
  },
  {
   "cell_type": "code",
   "execution_count": null,
   "id": "a90c777d",
   "metadata": {},
   "outputs": [],
   "source": [
    "#We will also need to change the column names, as '.' and spaces are part of many basic function in python\n",
    "df.rename(columns={'Order Quantity':'Order_Quantity', 'Improvement Area' :'Improvement_Area'}, inplace=True)\n",
    "df['Improvement_Area'] = df['Improvement_Area'].map({'Website UI':1, 'Packing & Shipping':2, 'Product Quality':3,}).astype(int)\n",
    "df['Overall_Satisfaction'] = df['Overall_Satisfaction'].map( {'Dis Satisfied': 0, 'Satisfied': 1} ).astype(int)\n"
   ]
  },
  {
   "cell_type": "code",
   "execution_count": null,
   "id": "f8cd70ed",
   "metadata": {},
   "outputs": [],
   "source": [
    "#Need the library to create the tree\n",
    "from sklearn import tree"
   ]
  },
  {
   "cell_type": "code",
   "execution_count": null,
   "id": "4d69ff54",
   "metadata": {},
   "outputs": [],
   "source": [
    "#Defining Features and lables, ignoring cust_num and target variable\n",
    "features= list(df.columns[2:6])\n"
   ]
  },
  {
   "cell_type": "code",
   "execution_count": null,
   "id": "121db30b",
   "metadata": {},
   "outputs": [],
   "source": [
    "\n",
    "X = df[features]\n",
    "y = df['Overall_Satisfaction']\n"
   ]
  },
  {
   "cell_type": "code",
   "execution_count": null,
   "id": "66edc2b0",
   "metadata": {},
   "outputs": [],
   "source": [
    "#Building Tree Model\n",
    "clf = tree.DecisionTreeClassifier(max_depth=2)\n",
    "clf.fit(X,y)\n"
   ]
  },
  {
   "cell_type": "code",
   "execution_count": null,
   "id": "bd5e0631",
   "metadata": {},
   "outputs": [],
   "source": [
    "#What are the major characteristics of satisfied customers?\n",
    "\n",
    "#Plotting the trees\n",
    "#Unfortunately drawing a beautiful tree is not easy in python, Still\n",
    "#you will need to install pydot\n",
    "#use this command in your anaconda prompt: conda install -c anaconda pydot=1.0.28\n"
   ]
  },
  {
   "cell_type": "code",
   "execution_count": null,
   "id": "530dc6fb",
   "metadata": {},
   "outputs": [],
   "source": [
    "from IPython.display import Image\n",
    "from six import StringIO"
   ]
  },
  {
   "cell_type": "code",
   "execution_count": null,
   "id": "1afd85c8",
   "metadata": {},
   "outputs": [],
   "source": [
    "#LAB : Tree Validation\n",
    "########################################\n",
    "##########Tree Validation\n",
    "#Tree Validation\n",
    "X\n",
    "predict1 = clf.predict(X)\n",
    "predict1"
   ]
  },
  {
   "cell_type": "code",
   "execution_count": null,
   "id": "2e783657",
   "metadata": {},
   "outputs": [],
   "source": [
    "from sklearn.metrics import confusion_matrix ###for using confusion matrix###\n",
    "cm = confusion_matrix(y, predict1)\n",
    "print (cm)\n"
   ]
  },
  {
   "cell_type": "code",
   "execution_count": null,
   "id": "5256715b",
   "metadata": {},
   "outputs": [],
   "source": [
    "total = sum(sum(cm))\n",
    "#####from confusion matrix calculate accuracy\n",
    "accuracy = (cm[0,0]+cm[1,1])/total\n",
    "print(accuracy)"
   ]
  },
  {
   "cell_type": "code",
   "execution_count": null,
   "id": "c40e9a6f",
   "metadata": {},
   "outputs": [],
   "source": []
  },
  {
   "cell_type": "markdown",
   "id": "8e526bca",
   "metadata": {},
   "source": [
    "#LAB: Overfitting\n",
    "#LAB: The problem of overfitting\n",
    "############################################################################ \n",
    "##The problem of overfitting\n",
    "#Choosing Cp and Pruning\n"
   ]
  },
  {
   "cell_type": "code",
   "execution_count": null,
   "id": "a96608d5",
   "metadata": {},
   "outputs": [],
   "source": [
    "#Dataset: \"Buyers Profiles/Train_data.csv\"\n",
    "#Task 1: Import both test and training data\n",
    "import pandas as pd\n",
    "#Dataset: \"Buyers Profiles/Train_data.csv\"\n",
    "#Import both test and training data\n",
    "train = pd.read_csv(\"Train_data.csv\", header=0)\n",
    "test = pd.read_csv(\"Test_data.csv\", header=0)"
   ]
  },
  {
   "cell_type": "code",
   "execution_count": null,
   "id": "9280fcdd",
   "metadata": {},
   "outputs": [],
   "source": [
    "##print train.info()\n",
    "train.shape\n",
    "test.shape"
   ]
  },
  {
   "cell_type": "code",
   "execution_count": null,
   "id": "4c6e6752",
   "metadata": {},
   "outputs": [],
   "source": [
    "# Building the tree model.\n",
    "# the data have string values we need to convert them into numerica values\n",
    "train['Gender'] = train['Gender'].map( {'Male': 1, 'Female': 0} ).astype(int)\n",
    "train['Bought'] = train['Bought'].map({'Yes':1, 'No':0}).astype(int)"
   ]
  },
  {
   "cell_type": "code",
   "execution_count": null,
   "id": "55d1deb5",
   "metadata": {},
   "outputs": [],
   "source": [
    "test['Gender'] = test['Gender'].map( {'Male': 1, 'Female': 0} ).astype(int)\n",
    "test['Bought'] = test['Bought'].map({'Yes':1, 'No':0}).astype(int)\n"
   ]
  },
  {
   "cell_type": "code",
   "execution_count": null,
   "id": "31216754",
   "metadata": {},
   "outputs": [],
   "source": [
    "##print train.info()\n",
    "##print test.info()\n"
   ]
  },
  {
   "cell_type": "code",
   "execution_count": null,
   "id": "a890936e",
   "metadata": {},
   "outputs": [],
   "source": [
    "from sklearn import tree\n",
    "\n",
    "#Defining Features and lables\n",
    "features = list(train.columns[:2])"
   ]
  },
  {
   "cell_type": "code",
   "execution_count": null,
   "id": "ac26c2cc",
   "metadata": {},
   "outputs": [],
   "source": [
    "X_train = train[features]\n",
    "y_train = train['Bought']"
   ]
  },
  {
   "cell_type": "code",
   "execution_count": null,
   "id": "80578de5",
   "metadata": {},
   "outputs": [],
   "source": [
    "#X_train\n",
    "\n",
    "X_test = test[features]\n",
    "y_test = test['Bought']"
   ]
  },
  {
   "cell_type": "code",
   "execution_count": null,
   "id": "61809c44",
   "metadata": {},
   "outputs": [],
   "source": [
    "#training Tree Model\n",
    "clf = tree.DecisionTreeClassifier()\n",
    "clf.fit(X_train,y_train)"
   ]
  },
  {
   "cell_type": "code",
   "execution_count": null,
   "id": "4fef22d9",
   "metadata": {},
   "outputs": [],
   "source": [
    "predict1 = clf.predict(X_train)\n",
    "print(predict1)"
   ]
  },
  {
   "cell_type": "code",
   "execution_count": null,
   "id": "ef1ac3cb",
   "metadata": {},
   "outputs": [],
   "source": [
    "predict2 = clf.predict(X_test)\n",
    "print(predict2)"
   ]
  },
  {
   "cell_type": "code",
   "execution_count": null,
   "id": "6c955572",
   "metadata": {},
   "outputs": [],
   "source": [
    "\n",
    "####Calculation of Accuracy and Confusion Matrix\n",
    "#on the train data\n",
    "from sklearn.metrics import confusion_matrix ###for using confusion matrix###\n",
    "cm1 = confusion_matrix(y_train,predict1)\n",
    "cm1"
   ]
  },
  {
   "cell_type": "code",
   "execution_count": null,
   "id": "c8b69fa9",
   "metadata": {},
   "outputs": [],
   "source": [
    "total1 = sum(sum(cm1))\n",
    "#####from confusion matrix calculate accuracy\n",
    "accuracy1 = (cm1[0,0]+cm1[1,1])/total1\n",
    "accuracy1"
   ]
  },
  {
   "cell_type": "code",
   "execution_count": null,
   "id": "574fb59d",
   "metadata": {},
   "outputs": [],
   "source": [
    "#On Test Data\n",
    "cm2 = confusion_matrix(y_test,predict2)\n",
    "cm2\n",
    "total2 = sum(sum(cm2))\n",
    "#####from confusion matrix calculate accuracy\n",
    "accuracy2 = (cm2[0,0]+cm2[1,1])/total2\n",
    "accuracy2\n"
   ]
  },
  {
   "cell_type": "markdown",
   "id": "76135544",
   "metadata": {},
   "source": [
    "Pruning"
   ]
  },
  {
   "cell_type": "code",
   "execution_count": null,
   "id": "1007dafa",
   "metadata": {},
   "outputs": [],
   "source": [
    "### hyper parameters : Before creating the model ,we pass some values \n",
    "### model parameters : after creating the model"
   ]
  },
  {
   "cell_type": "code",
   "execution_count": null,
   "id": "b1053819",
   "metadata": {},
   "outputs": [],
   "source": [
    "#We will rebuild a new tree by using above data and see how it works by tweeking the parameteres we have..\n",
    "dtree = tree.DecisionTreeClassifier(max_leaf_nodes = 10, \n",
    "                                    min_samples_leaf = 5, \n",
    "                                    max_depth= 5)"
   ]
  },
  {
   "cell_type": "code",
   "execution_count": null,
   "id": "52762c8a",
   "metadata": {},
   "outputs": [],
   "source": [
    "dtree.fit(X_train,y_train)\n",
    "\n",
    "predict3 = dtree.predict(X_train)\n",
    "predict4 = dtree.predict(X_test)"
   ]
  },
  {
   "cell_type": "code",
   "execution_count": null,
   "id": "fe0b6eba",
   "metadata": {},
   "outputs": [],
   "source": [
    "#Accuracy of the model that we created with modified model parameters.\n",
    "#on the train data\n",
    "from sklearn.metrics import confusion_matrix ###for using confusion matrix###\n",
    "cm1 = confusion_matrix(y_train,predict3)\n",
    "cm1\n",
    "total1 = sum(sum(cm1))"
   ]
  },
  {
   "cell_type": "code",
   "execution_count": null,
   "id": "4a1a3ba2",
   "metadata": {},
   "outputs": [],
   "source": [
    "#####from confusion matrix calculate accuracy\n",
    "accuracy1 = (cm1[0,0]+cm1[1,1])/total1\n",
    "accuracy1"
   ]
  },
  {
   "cell_type": "code",
   "execution_count": null,
   "id": "71d16d42",
   "metadata": {},
   "outputs": [],
   "source": [
    "#On Test Data\n",
    "cm2 = confusion_matrix(y_test,predict4)\n",
    "cm2\n",
    "total2 = sum(sum(cm2))\n",
    "#####from confusion matrix calculate accuracy\n",
    "accuracy2 = (cm2[0,0]+cm2[1,1])/total2\n",
    "accuracy2"
   ]
  },
  {
   "cell_type": "code",
   "execution_count": null,
   "id": "7e46deab",
   "metadata": {},
   "outputs": [],
   "source": [
    "#lab"
   ]
  },
  {
   "cell_type": "code",
   "execution_count": null,
   "id": "c51cba2a",
   "metadata": {},
   "outputs": [],
   "source": [
    "#LAB: Tree Building & Model Selection\n",
    "#We will try to build a few trees tweeking the parameteres of the tree and see which works best\n",
    "#Dataset: Fiber bits"
   ]
  },
  {
   "cell_type": "code",
   "execution_count": null,
   "id": "c4feb693",
   "metadata": {},
   "outputs": [],
   "source": [
    "import pandas as pd\n",
    "import numpy as np\n",
    "\n",
    "Fiber_df = pd.read_csv(\"Fiberbits.csv\", header=0)\n",
    "\n",
    "Fiber_df.info()\n"
   ]
  },
  {
   "cell_type": "code",
   "execution_count": null,
   "id": "fa53888a",
   "metadata": {},
   "outputs": [],
   "source": [
    "#good thing the data have all the values as numerical\n",
    "#Modeling a decision tree\n",
    "from sklearn import model_selection, tree\n"
   ]
  },
  {
   "cell_type": "code",
   "execution_count": null,
   "id": "18b7eae9",
   "metadata": {},
   "outputs": [],
   "source": [
    "Fiber_df = pd.read_csv(\"Fiberbits.csv\", header=0)\n",
    "\n",
    "Fiber_df.info()"
   ]
  },
  {
   "cell_type": "code",
   "execution_count": null,
   "id": "496f386b",
   "metadata": {},
   "outputs": [],
   "source": [
    "#Defining Features and lables\n",
    "features = list(Fiber_df.drop(['active_cust'],axis=1)) #this code gives a list of column names except 'active_cust'\n"
   ]
  },
  {
   "cell_type": "code",
   "execution_count": null,
   "id": "e35020d1",
   "metadata": {},
   "outputs": [],
   "source": [
    "X = np.array(Fiber_df[features])\n",
    "y = np.array(Fiber_df['active_cust'])"
   ]
  },
  {
   "cell_type": "code",
   "execution_count": null,
   "id": "4dd8fa44",
   "metadata": {},
   "outputs": [],
   "source": [
    "\n",
    "X_train, X_test, y_train, y_test = model_selection.train_test_split(X,y, train_size = 0.8)\n"
   ]
  },
  {
   "cell_type": "code",
   "execution_count": null,
   "id": "a244ac0b",
   "metadata": {},
   "outputs": [],
   "source": [
    "#Tree building and validation\n",
    "\n",
    "clf1 = tree.DecisionTreeClassifier()\n",
    "clf1.fit(X_train,y_train)\n",
    "\n"
   ]
  },
  {
   "cell_type": "code",
   "execution_count": null,
   "id": "1e308dbd",
   "metadata": {},
   "outputs": [],
   "source": [
    "#If we want to see the predictive values we can do this by:\n",
    "#predict1 = clf1.predict(y_train)\n",
    "clf1.score(X_train,y_train)"
   ]
  },
  {
   "cell_type": "code",
   "execution_count": null,
   "id": "87702cf4",
   "metadata": {},
   "outputs": [],
   "source": [
    "clf1.score(X_test,y_test)\n",
    "#This model with default parameters is giving us accuracy of 99% on training and 84.505..% \n",
    "#It is overfitted model with defalut parameters\n"
   ]
  },
  {
   "cell_type": "code",
   "execution_count": null,
   "id": "62f8da08",
   "metadata": {},
   "outputs": [],
   "source": [
    "#Let's make a model by chnaging the parameters.\n",
    "clf2 = tree.DecisionTreeClassifier(criterion='gini', \n",
    "                                   splitter='best', \n",
    "                                   max_depth=20, \n",
    "                                   min_samples_split=5, \n",
    "                                   min_samples_leaf=5, \n",
    "                                   max_leaf_nodes=10)\n",
    "clf2.fit(X_train,y_train)"
   ]
  },
  {
   "cell_type": "code",
   "execution_count": null,
   "id": "8bde91d2",
   "metadata": {},
   "outputs": [],
   "source": [
    "clf.best_params_\n",
    "\n"
   ]
  },
  {
   "cell_type": "code",
   "execution_count": null,
   "id": "c044c834",
   "metadata": {},
   "outputs": [],
   "source": [
    "#Finding optimal criteria and max_depth\n",
    "# optimal hyper parameters\n",
    "from sklearn.model_selection import GridSearchCV\n",
    "tuned_parameters = [{'criterion': ['gini','entropy'],'max_depth': range(2,10)}]\n",
    "clf_tree = tree.DecisionTreeClassifier()\n",
    "clf = GridSearchCV(clf1, tuned_parameters, cv=10, scoring='roc_auc')\n",
    "clf.fit(X_train, y_train )\n"
   ]
  },
  {
   "cell_type": "code",
   "execution_count": null,
   "id": "b500b6ab",
   "metadata": {},
   "outputs": [],
   "source": []
  },
  {
   "cell_type": "code",
   "execution_count": null,
   "id": "f5502d28",
   "metadata": {},
   "outputs": [],
   "source": [
    "clf.best_score_"
   ]
  },
  {
   "cell_type": "code",
   "execution_count": null,
   "id": "272a32d5",
   "metadata": {},
   "outputs": [],
   "source": [
    "clf.best_params_"
   ]
  },
  {
   "cell_type": "markdown",
   "id": "30018d37",
   "metadata": {},
   "source": []
  }
 ],
 "metadata": {
  "kernelspec": {
   "display_name": "base",
   "language": "python",
   "name": "python3"
  },
  "language_info": {
   "codemirror_mode": {
    "name": "ipython",
    "version": 3
   },
   "file_extension": ".py",
   "mimetype": "text/x-python",
   "name": "python",
   "nbconvert_exporter": "python",
   "pygments_lexer": "ipython3",
   "version": "3.11.5"
  }
 },
 "nbformat": 4,
 "nbformat_minor": 5
}
